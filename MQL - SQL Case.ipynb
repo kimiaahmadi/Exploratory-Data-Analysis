{
 "cells": [
  {
   "cell_type": "code",
   "execution_count": 6,
   "id": "a7d96d65",
   "metadata": {},
   "outputs": [
    {
     "data": {
      "text/html": [
       "<div>\n",
       "<style scoped>\n",
       "    .dataframe tbody tr th:only-of-type {\n",
       "        vertical-align: middle;\n",
       "    }\n",
       "\n",
       "    .dataframe tbody tr th {\n",
       "        vertical-align: top;\n",
       "    }\n",
       "\n",
       "    .dataframe thead th {\n",
       "        text-align: right;\n",
       "    }\n",
       "</style>\n",
       "<table border=\"1\" class=\"dataframe\">\n",
       "  <thead>\n",
       "    <tr style=\"text-align: right;\">\n",
       "      <th></th>\n",
       "      <th>Client Status</th>\n",
       "      <th>Source</th>\n",
       "      <th>MQL Created Date</th>\n",
       "    </tr>\n",
       "  </thead>\n",
       "  <tbody>\n",
       "    <tr>\n",
       "      <th>0</th>\n",
       "      <td>SQL</td>\n",
       "      <td>Email</td>\n",
       "      <td>4/1/2019</td>\n",
       "    </tr>\n",
       "    <tr>\n",
       "      <th>1</th>\n",
       "      <td>SQL</td>\n",
       "      <td>Email</td>\n",
       "      <td>4/1/2019</td>\n",
       "    </tr>\n",
       "    <tr>\n",
       "      <th>2</th>\n",
       "      <td>SQL</td>\n",
       "      <td>Email</td>\n",
       "      <td>4/1/2019</td>\n",
       "    </tr>\n",
       "    <tr>\n",
       "      <th>3</th>\n",
       "      <td>SQL</td>\n",
       "      <td>Email</td>\n",
       "      <td>4/1/2019</td>\n",
       "    </tr>\n",
       "    <tr>\n",
       "      <th>4</th>\n",
       "      <td>SQL</td>\n",
       "      <td>Email</td>\n",
       "      <td>4/1/2019</td>\n",
       "    </tr>\n",
       "  </tbody>\n",
       "</table>\n",
       "</div>"
      ],
      "text/plain": [
       "  Client Status Source MQL Created Date\n",
       "0           SQL  Email         4/1/2019\n",
       "1           SQL  Email         4/1/2019\n",
       "2           SQL  Email         4/1/2019\n",
       "3           SQL  Email         4/1/2019\n",
       "4           SQL  Email         4/1/2019"
      ]
     },
     "execution_count": 6,
     "metadata": {},
     "output_type": "execute_result"
    }
   ],
   "source": [
    "import pandas as pd\n",
    "\n",
    "raw_data = pd.read_csv('downloads/MQL-SQL Raw data.csv')\n",
    "raw_data.head()"
   ]
  },
  {
   "cell_type": "markdown",
   "id": "2976ea61",
   "metadata": {},
   "source": [
    "### Question 1: What is the overall MQL to SQL conversion rate by week (assume weeks start on mondays and end on sundays)?"
   ]
  },
  {
   "cell_type": "code",
   "execution_count": 10,
   "id": "354d6611",
   "metadata": {},
   "outputs": [
    {
     "name": "stdout",
     "output_type": "stream",
     "text": [
      "        Week  MQLs  SQLs  Conversion Rate\n",
      "0 2019-04-01    96    45        46.875000\n",
      "1 2019-04-08   136    64        47.058824\n",
      "2 2019-04-15   408   137        33.578431\n",
      "3 2019-04-22  1519   595        39.170507\n"
     ]
    }
   ],
   "source": [
    "raw_data['MQL Created Date'] = pd.to_datetime(raw_data['MQL Created Date'])\n",
    "\n",
    "\n",
    "raw_data['Week'] = raw_data['MQL Created Date'].dt.to_period('W').apply(lambda r: r.start_time)\n",
    "\n",
    "weekly_data = raw_data.groupby('Week').agg(\n",
    "    MQLs=('Client Status', 'count'),\n",
    "    SQLs=('Client Status', lambda x: (x == 'SQL').sum())\n",
    ")\n",
    "\n",
    "weekly_data['Conversion Rate'] = (weekly_data['SQLs'] / weekly_data['MQLs']) * 100\n",
    "\n",
    "\n",
    "weekly_data.reset_index(inplace=True)\n",
    "\n",
    "\n",
    "print(weekly_data)\n"
   ]
  },
  {
   "cell_type": "markdown",
   "id": "5232d0ab",
   "metadata": {},
   "source": [
    "### Question 2: How has the overall MQL conversion rate changed over time?"
   ]
  },
  {
   "cell_type": "markdown",
   "id": "8fe706ef",
   "metadata": {},
   "source": [
    "As seen in the table above, the overall MQL conversion rate decreased over time"
   ]
  },
  {
   "cell_type": "markdown",
   "id": "78d3d6e9",
   "metadata": {},
   "source": [
    "### Question 3: What is the main reason that the overall MQL conversion rate changed so drastically from week 1 to week 4?"
   ]
  },
  {
   "cell_type": "code",
   "execution_count": 11,
   "id": "2fad68b4",
   "metadata": {},
   "outputs": [
    {
     "name": "stdout",
     "output_type": "stream",
     "text": [
      "        Week  MQLs  SQLs  Email  Web  Other  Conversion Rate\n",
      "0 2019-04-01    96    45     43    0     53        46.875000\n",
      "1 2019-04-08   136    64     67    0     69        47.058824\n",
      "2 2019-04-15   408   137     49    0    359        33.578431\n",
      "3 2019-04-22  1519   595    134    0   1385        39.170507\n"
     ]
    }
   ],
   "source": [
    "weekly_data_summary = raw_data.groupby('Week').agg(\n",
    "    MQLs=('Client Status', 'count'),\n",
    "    SQLs=('Client Status', lambda x: (x == 'SQL').sum()),\n",
    "    Email=('Source', lambda x: (x == 'Email').sum()),\n",
    "    Web=('Source', lambda x: (x == 'Web').sum()),\n",
    "    Other=('Source', lambda x: (x.isin(['Email', 'Web']) == False).sum())\n",
    ")\n",
    "\n",
    "weekly_data_summary['Conversion Rate'] = (weekly_data_summary['SQLs'] / weekly_data_summary['MQLs']) * 100\n",
    "weekly_data_summary.reset_index(inplace=True)\n",
    "\n",
    "\n",
    "print(weekly_data_summary)\n"
   ]
  },
  {
   "cell_type": "markdown",
   "id": "fa380258",
   "metadata": {},
   "source": [
    "The table above illustrates the significant increase in MQLs from \"Other\" sources, particularly in the 3rd and 4th week. These leads could have been more broad/difficult to convert, therefore negatively affecting the conversion rate "
   ]
  },
  {
   "cell_type": "code",
   "execution_count": null,
   "id": "1ea4b29c",
   "metadata": {},
   "outputs": [],
   "source": []
  }
 ],
 "metadata": {
  "kernelspec": {
   "display_name": "Python 3 (ipykernel)",
   "language": "python",
   "name": "python3"
  },
  "language_info": {
   "codemirror_mode": {
    "name": "ipython",
    "version": 3
   },
   "file_extension": ".py",
   "mimetype": "text/x-python",
   "name": "python",
   "nbconvert_exporter": "python",
   "pygments_lexer": "ipython3",
   "version": "3.11.4"
  }
 },
 "nbformat": 4,
 "nbformat_minor": 5
}
